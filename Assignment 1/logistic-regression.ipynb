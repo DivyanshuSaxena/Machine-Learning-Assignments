{
 "cells": [
  {
   "cell_type": "code",
   "execution_count": null,
   "metadata": {},
   "outputs": [],
   "source": [
    "import numpy as np\n",
    "import matplotlib.pyplot as plt\n",
    "import math"
   ]
  },
  {
   "cell_type": "code",
   "execution_count": null,
   "metadata": {},
   "outputs": [],
   "source": [
    "# Read data from files\n",
    "x_i_raw = np.genfromtxt('./ass1_data/logisticX.csv', delimiter=',')\n",
    "y_i = np.genfromtxt('./ass1_data/logisticY.csv', delimiter=',')\n",
    "theta = np.array([0.00, 0.00, 0.00])\n",
    "m = x_i_raw.shape[0]\n",
    "n = 1.5\n",
    "\n",
    "# Normalize data - Both dimensions are normalized separately\n",
    "mean1 = 0\n",
    "mean2 = 0\n",
    "squared_sum1 = 0\n",
    "squared_sum2 = 0\n",
    "for xi1, xi2 in x_i_raw:\n",
    "    mean1 += xi1\n",
    "    mean2 += xi2\n",
    "    squared_sum1 += xi1*xi1\n",
    "    squared_sum2 += xi2*xi2\n",
    "mean1 = mean1/m\n",
    "mean2 = mean2/m\n",
    "e_x_squared1 = squared_sum1/m\n",
    "e_x_squared2 = squared_sum2/m\n",
    "variance1 = e_x_squared1 - mean1*mean1\n",
    "variance2 = e_x_squared2 - mean2*mean2\n",
    "\n",
    "x_i_norm = np.array([[(xi1-mean1)/math.sqrt(variance1), (xi2-mean2)/math.sqrt(variance2)]\n",
    "                     for xi1, xi2 in x_i_raw])\n",
    "\n",
    "normalize = False\n",
    "if normalize:\n",
    "    x_i = np.array([[1, xi1, xi2] for xi1, xi2 in x_i_norm])\n",
    "else:\n",
    "    x_i = np.array([[1, xi1, xi2] for xi1, xi2 in x_i_raw])"
   ]
  },
  {
   "cell_type": "code",
   "execution_count": null,
   "metadata": {},
   "outputs": [],
   "source": [
    "# Detect Convergence\n",
    "epsilon = 0.000000001\n",
    "def converged(theta_next, theta):\n",
    "    converged = True\n",
    "    for d in range(theta.size):\n",
    "        converged = converged and abs(theta_next[d] - theta[d]) < epsilon\n",
    "    return converged"
   ]
  },
  {
   "cell_type": "code",
   "execution_count": null,
   "metadata": {},
   "outputs": [],
   "source": [
    "# Implement Newton's Method for PART A\n",
    "num_iterations = 0\n",
    "\n",
    "while(True):\n",
    "    # print (theta)\n",
    "    del_l = np.array([0.00, 0.00, 0.00])\n",
    "    hessian = np.zeros(shape=(theta.size, theta.size))\n",
    "    for i in range(m):\n",
    "        hyp = 1/(1 + math.exp(np.dot(theta, x_i[i])))\n",
    "        del_l += (y_i[i] - hyp)*x_i[i]\n",
    "        for d1 in range(theta.size):\n",
    "            for d2 in range(theta.size):\n",
    "                hessian[d1][d2] += hyp*(1-hyp)*x_i[i][d1]*x_i[i][d2]\n",
    "    hessian_inv = np.linalg.inv(hessian)\n",
    "    theta_next = theta - np.dot(hessian_inv, del_l)\n",
    "    \n",
    "    if (converged(theta_next, theta)):\n",
    "        break\n",
    "        \n",
    "    theta = theta_next\n",
    "    num_iterations += 1\n",
    "\n",
    "print (theta)\n",
    "print (num_iterations)"
   ]
  },
  {
   "cell_type": "code",
   "execution_count": null,
   "metadata": {},
   "outputs": [],
   "source": [
    "# Plot the graph of logistic regression for PART B\n",
    "label_0 = []\n",
    "label_1 = []\n",
    "plot_raw = True\n",
    "\n",
    "for i in range(m):\n",
    "    prediction = 1/(1 + math.exp(np.dot(theta, x_i[i])))\n",
    "    # print ((x_i_raw[i], prediction))\n",
    "    if (prediction >= 0.5):\n",
    "        if plot_raw:\n",
    "            label_1.append([x_i_raw[i][0], x_i_raw[i][1]])\n",
    "        else:\n",
    "            label_1.append([x_i[i][1], x_i[i][2]])\n",
    "    else:\n",
    "        if plot_raw:\n",
    "            label_0.append([x_i_raw[i][0], x_i_raw[i][1]])\n",
    "        else:\n",
    "            label_0.append([x_i[i][1], x_i[i][2]])\n",
    "\n",
    "label_0 = np.array(label_0)\n",
    "label_1 = np.array(label_1)\n",
    "plt.scatter(label_0[:, [0]], label_0[:, [1]], 50, c='r', marker='+')\n",
    "plt.scatter(label_1[:, [0]], label_1[:, [1]], 50, c='b', marker='.')\n",
    "\n",
    "# Plot the separator\n",
    "if plot_raw:\n",
    "    x1 = np.linspace(2, 8, 100)\n",
    "else:\n",
    "    x1 = np.linspace(-3, 3, 100)    \n",
    "x2 = -(theta[0] + theta[1]*x1)/theta[2]\n",
    "plt.plot(x1, x2, 'g-')"
   ]
  },
  {
   "cell_type": "code",
   "execution_count": null,
   "metadata": {},
   "outputs": [],
   "source": []
  }
 ],
 "metadata": {
  "kernelspec": {
   "display_name": "Python 3",
   "language": "python",
   "name": "python3"
  },
  "language_info": {
   "codemirror_mode": {
    "name": "ipython",
    "version": 3
   },
   "file_extension": ".py",
   "mimetype": "text/x-python",
   "name": "python",
   "nbconvert_exporter": "python",
   "pygments_lexer": "ipython3",
   "version": "3.7.1"
  }
 },
 "nbformat": 4,
 "nbformat_minor": 2
}
