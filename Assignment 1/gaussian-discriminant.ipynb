{
 "cells": [
  {
   "cell_type": "code",
   "execution_count": null,
   "metadata": {},
   "outputs": [],
   "source": [
    "import numpy as np\n",
    "import matplotlib.pyplot as plt\n",
    "import math"
   ]
  },
  {
   "cell_type": "code",
   "execution_count": null,
   "metadata": {},
   "outputs": [],
   "source": [
    "# Read data from files\n",
    "x_i = np.genfromtxt('./ass1_data/q4x.dat')\n",
    "outputs = open('./ass1_data/q4y.dat', 'r')\n",
    "y_i_raw = outputs.read().split('\\n')\n",
    "theta = np.array([0.00, 0.00, 0.00])\n",
    "m = x_i.shape[0]\n",
    "n = 1.5\n",
    "\n",
    "def get_label(y):\n",
    "    if (y == 'Alaska'):\n",
    "        return 0\n",
    "    return 1\n",
    "\n",
    "y_i = [get_label(y) for y in y_i_raw]"
   ]
  },
  {
   "cell_type": "code",
   "execution_count": null,
   "metadata": {},
   "outputs": [],
   "source": [
    "# Calculate means for PART A\n",
    "mu_0 = np.array([0.00, 0.00])\n",
    "mu_1 = np.array([0.00, 0.00])\n",
    "num_labels_0 = 0\n",
    "num_labels_1 = 0\n",
    "\n",
    "for i in range(m):\n",
    "    if (y_i[i] == 0):\n",
    "        mu_0 += x_i[i]\n",
    "        num_labels_0 += 1\n",
    "    else:\n",
    "        mu_1 += x_i[i]\n",
    "        num_labels_1 += 1\n",
    "        \n",
    "mu_0 = mu_0 / num_labels_0\n",
    "mu_1 = mu_1 / num_labels_1\n",
    "print (mu_0, mu_1)"
   ]
  },
  {
   "cell_type": "code",
   "execution_count": null,
   "metadata": {},
   "outputs": [],
   "source": [
    "# Calculate Covariance Matrices\n",
    "sigma = np.zeros(shape=(2,2))\n",
    "sigma_0 = np.zeros(shape=(2,2))\n",
    "sigma_1 = np.zeros(shape=(2,2))\n",
    "phi = 0\n",
    "for i in range(m):\n",
    "    if (y_i[i] == 0):\n",
    "        x_mu = np.array([x_i[i] - mu_0])\n",
    "        sigma_0 += np.dot(np.transpose(x_mu), x_mu)\n",
    "    else:\n",
    "        x_mu = np.array([x_i[i] - mu_1])\n",
    "        sigma_1 += np.dot(np.transpose(x_mu), x_mu)\n",
    "        phi += 1\n",
    "    sigma += np.dot(np.transpose(x_mu), x_mu)\n",
    "    \n",
    "sigma = sigma / m\n",
    "sigma_0 = sigma_0 / num_labels_0\n",
    "sigma_1 = sigma_1 / num_labels_1\n",
    "phi = phi/m\n",
    "\n",
    "print (sigma)\n",
    "print (phi)"
   ]
  },
  {
   "cell_type": "code",
   "execution_count": null,
   "metadata": {},
   "outputs": [],
   "source": [
    "x_i_0, x_i_1 = [], []\n",
    "\n",
    "for i in range(m):\n",
    "    if (y_i[i] == 0):\n",
    "        x_i_0.append(x_i[i])\n",
    "    else:\n",
    "        x_i_1.append(x_i[i])\n",
    "\n",
    "# Plot training data for PART B\n",
    "x_i_0 = np.array(x_i_0)\n",
    "x_i_1 = np.array(x_i_1)\n",
    "plt.scatter(x_i_0[:, [0]], x_i_0[:, [1]], marker='+')\n",
    "plt.scatter(x_i_1[:, [0]], x_i_1[:, [1]], marker='*')\n",
    "\n",
    "# Evaluate function between x1 and x2 to plot separator for PART C\n",
    "sigma_inv = np.linalg.inv(sigma)\n",
    "coeff = 2 * (np.dot(mu_0.T, sigma_inv) - np.dot(mu_1.T, sigma_inv))\n",
    "intercept_1 = np.dot( np.dot(mu_1.T, sigma_inv), mu_1 )\n",
    "intercept_0 = np.dot( np.dot(mu_0.T, sigma_inv), mu_0 )\n",
    "constant = 2*math.log(phi/(1-phi)) - intercept_1 + intercept_0\n",
    "\n",
    "# Get Separator\n",
    "x = np.linspace(60, 180, 250)\n",
    "y = [(constant - coeff[0] * xi) / coeff[1] for xi in x]\n",
    "plt.plot(x, y, 'r')"
   ]
  },
  {
   "cell_type": "code",
   "execution_count": null,
   "metadata": {},
   "outputs": [],
   "source": [
    "# Get individual covariance matrices for PART D\n",
    "print (\"Covariance matrix for y(i)=0 is \\n\", sigma_0)\n",
    "print (\"Covariance matrix for y(i)=1 is \\n\", sigma_1)"
   ]
  },
  {
   "cell_type": "code",
   "execution_count": null,
   "metadata": {},
   "outputs": [],
   "source": [
    "# Get Quadratic Separator for PART E\n",
    "sigma_0_inv = np.linalg.inv(sigma_0)\n",
    "sigma_1_inv = np.linalg.inv(sigma_1)\n",
    "sigma_diff = sigma_1_inv - sigma_0_inv\n",
    "coeff = 2 * (np.dot(mu_0.T, sigma_0_inv) - np.dot(mu_1.T, sigma_1_inv))\n",
    "intercept_1 = np.dot( np.dot(mu_1.T, sigma_1_inv), mu_1 )\n",
    "intercept_0 = np.dot( np.dot(mu_0.T, sigma_0_inv), mu_0 )\n",
    "constant = 2*math.log( (phi*math.sqrt(np.linalg.det(sigma_0))) / ((1-phi)*math.sqrt(np.linalg.det(sigma_1))) ) + intercept_1 - intercept_0\n",
    "\n",
    "def z_func(x0, x1):\n",
    "    quadratic, linear = 0, 0\n",
    "    quadratic += x0*x0*sigma_diff[0][0]\n",
    "    quadratic += x0*x1*sigma_diff[0][1]\n",
    "    quadratic += x1*x0*sigma_diff[1][0]\n",
    "    quadratic += x1*x1*sigma_diff[1][1]\n",
    "    linear += coeff[0]*x0\n",
    "    linear += coeff[1]*x1\n",
    "    return (quadratic + linear + constant)\n",
    "\n",
    "plt.scatter(x_i_0[:, [0]], x_i_0[:, [1]], marker='+')\n",
    "plt.scatter(x_i_1[:, [0]], x_i_1[:, [1]], marker='*')\n",
    "\n",
    "# Plot Separator\n",
    "x0 = np.arange(50, 200, 5)\n",
    "x1 = np.arange(250, 550, 5)\n",
    "x0, x1 = np.meshgrid(x0, x1)\n",
    "z = z_func(x0, x1)\n",
    "plt.contour(x0, x1, z, [0])"
   ]
  },
  {
   "cell_type": "code",
   "execution_count": null,
   "metadata": {},
   "outputs": [],
   "source": []
  }
 ],
 "metadata": {
  "kernelspec": {
   "display_name": "Python 3",
   "language": "python",
   "name": "python3"
  },
  "language_info": {
   "codemirror_mode": {
    "name": "ipython",
    "version": 3
   },
   "file_extension": ".py",
   "mimetype": "text/x-python",
   "name": "python",
   "nbconvert_exporter": "python",
   "pygments_lexer": "ipython3",
   "version": "3.7.1"
  }
 },
 "nbformat": 4,
 "nbformat_minor": 2
}
