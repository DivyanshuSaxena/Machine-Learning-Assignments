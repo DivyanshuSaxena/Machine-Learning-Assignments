{
 "cells": [
  {
   "cell_type": "code",
   "execution_count": null,
   "metadata": {},
   "outputs": [],
   "source": [
    "import math\n",
    "import random\n",
    "import numpy as np\n",
    "from cvxopt import matrix\n",
    "from cvxopt.solvers import qp\n",
    "\n",
    "# Hyperparameters\n",
    "gamma = 0.05\n",
    "gaussian = False"
   ]
  },
  {
   "cell_type": "code",
   "execution_count": null,
   "metadata": {},
   "outputs": [],
   "source": [
    "# Get data for PART A\n",
    "train_data_raw = np.genfromtxt('./ass2_data/digit_train.csv', delimiter=',')\n",
    "test_data = np.genfromtxt('./ass2_data/digit_test.csv', delimiter=',')"
   ]
  },
  {
   "cell_type": "code",
   "execution_count": null,
   "metadata": {},
   "outputs": [],
   "source": [
    "# Process data to get the relevant vectors\n",
    "scale_down = lambda x : x/255\n",
    "train_data = np.array([np.zeros(shape=28*28 + 1)])\n",
    "\n",
    "for sample in train_data_raw:\n",
    "    if sample[-1] == 6 or sample[-1] == 7:\n",
    "        insert_sample = np.array([scale_down(x) for x in sample[:-1]])\n",
    "        insert_sample = np.append(insert_sample, sample[-1])\n",
    "        train_data = np.vstack([train_data, insert_sample])\n",
    "\n",
    "train_data = train_data[1:]"
   ]
  },
  {
   "cell_type": "code",
   "execution_count": null,
   "metadata": {},
   "outputs": [],
   "source": [
    "get_class = lambda x : 1 if x == 6 else -1\n",
    "\n",
    "# Global Parameters for our model\n",
    "# m = 500\n",
    "m = len(train_data)\n",
    "alphas = np.array([])\n",
    "w = np.array([])\n",
    "b = 0\n",
    "\n",
    "P = np.zeros(shape=(m,m))\n",
    "for i in range(m):\n",
    "    for j in range(m):\n",
    "        y_i = get_class(train_data[i][-1])\n",
    "        y_j = get_class(train_data[j][-1])\n",
    "        if gaussian:\n",
    "            diff_vector = train_data[i][:-1] - train_data[j][:-1]\n",
    "            kernel = math.exp(-gamma * np.dot(diff_vector.T, diff_vector))\n",
    "            P[i][j] = y_i * y_j * kernel\n",
    "        else:\n",
    "            P[i][j] = y_i * y_j * np.dot(train_data[i][:-1], train_data[j][:-1])\n",
    "\n",
    "# Get input for the solver\n",
    "P = matrix(P)\n",
    "q = matrix(1.0, (m,1))\n",
    "G = matrix(np.identity(m))\n",
    "h = matrix(0.0, (m,1))\n",
    "temp_A = list(map(get_class, train_data[0:m, -1]))\n",
    "A = matrix(np.array(temp_A), (1, m), 'd')\n",
    "b = matrix(0.0)\n",
    "\n",
    "# Use the cvxopt solver qp module\n",
    "alphas = qp(P, q, G, h, A, b)['x']\n",
    "alphas = np.array(-alphas)[:, 0]\n",
    "print (alphas)"
   ]
  },
  {
   "cell_type": "code",
   "execution_count": null,
   "metadata": {},
   "outputs": [],
   "source": [
    "# Evaluate w and b\n",
    "w = np.zeros(28*28)\n",
    "for i in range(m):\n",
    "    sample = train_data[i]\n",
    "    w += alphas[i] * get_class(sample[-1]) * sample[:-1]\n",
    "# print (w)\n",
    "\n",
    "maxone = -9999999\n",
    "minone = 9999999\n",
    "for sample in train_data[0:m]:\n",
    "    y = get_class(sample[-1])\n",
    "    if y == 1:\n",
    "        minone = min(minone, np.dot(w.T, sample[:-1]))\n",
    "    else:\n",
    "        maxone = max(maxone, np.dot(w.T, sample[:-1]))\n",
    "\n",
    "b = -(maxone + minone)/2\n",
    "# print (b)"
   ]
  },
  {
   "cell_type": "code",
   "execution_count": null,
   "metadata": {},
   "outputs": [],
   "source": [
    "# Find accuracy\n",
    "accuracy = 0\n",
    "\n",
    "for sample in train_data[0:m]:\n",
    "    pred_z = np.dot(w.T, sample[:-1]) + b\n",
    "    if pred_z > 0:\n",
    "        pred = 1\n",
    "    else:\n",
    "        pred = -1\n",
    "    if pred == get_class(sample[-1]):\n",
    "        accuracy += 1\n",
    "\n",
    "print (accuracy/m * 100)"
   ]
  }
 ],
 "metadata": {
  "kernelspec": {
   "display_name": "Python 3",
   "language": "python",
   "name": "python3"
  },
  "language_info": {
   "codemirror_mode": {
    "name": "ipython",
    "version": 3
   },
   "file_extension": ".py",
   "mimetype": "text/x-python",
   "name": "python",
   "nbconvert_exporter": "python",
   "pygments_lexer": "ipython3",
   "version": "3.7.1"
  }
 },
 "nbformat": 4,
 "nbformat_minor": 2
}
