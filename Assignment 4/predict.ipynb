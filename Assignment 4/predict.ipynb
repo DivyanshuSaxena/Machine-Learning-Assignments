{
 "cells": [
  {
   "cell_type": "code",
   "execution_count": null,
   "metadata": {},
   "outputs": [],
   "source": [
    "import os\n",
    "import pickle\n",
    "import random\n",
    "import math\n",
    "import numpy as np\n",
    "from PIL import Image\n",
    "from sklearn.svm import SVC\n",
    "from sklearn.metrics import f1_score"
   ]
  },
  {
   "cell_type": "code",
   "execution_count": null,
   "metadata": {},
   "outputs": [],
   "source": [
    "def load_image(infilename):\n",
    "    img = Image.open(infilename).convert('L')\n",
    "    data = np.array(img)\n",
    "    return data\n",
    "\n",
    "# Get Mean and Standard Deviation of the train data\n",
    "train_data = np.load('./dataset/train.data.npy')\n",
    "train_output = np.load('./dataset/train.output.npy')\n",
    "mean = np.mean(train_data, axis=0)\n",
    "std = np.std(train_data, axis=0)"
   ]
  },
  {
   "cell_type": "code",
   "execution_count": null,
   "metadata": {},
   "outputs": [],
   "source": [
    "# Load PCA Model for transforming Images\n",
    "with open('./models/pca_model.pickle', 'rb') as handle:\n",
    "    pca_model = pickle.load(handle)\n",
    "\n",
    "# Load Test Data\n",
    "rootdir = \"./test_dataset/\"\n",
    "tree = sorted(list(os.walk(rootdir)))\n",
    "\n",
    "test_data = []\n",
    "for root, sub_folders, files in tree:\n",
    "    print (root)\n",
    "    sample = []\n",
    "    if len(files) != 0:\n",
    "        for file in sorted(files):\n",
    "            image_file = os.path.join(root, file)\n",
    "            image_arr = load_image(image_file)\n",
    "            flattened_image = image_arr.flatten(order='F')\n",
    "            sample.append(flattened_image)\n",
    "        sample = pca_model.transform(sample)\n",
    "        sample = np.array(sample).flatten()\n",
    "        test_data.append(sample)\n",
    "\n",
    "test_data = np.array(test_data)\n",
    "normalized_test = (test_data - mean) / std\n",
    "np.save('./transformed_test', normalized_test)\n",
    "print (normalized_test.shape)"
   ]
  },
  {
   "cell_type": "code",
   "execution_count": null,
   "metadata": {},
   "outputs": [],
   "source": [
    "# Load the transformed test dataset\n",
    "normalized_test = np.load('./transformed_test.npy')\n",
    "\n",
    "# Load the Model for prediction\n",
    "with open('./models/svm_model.pickle', 'rb') as handle:\n",
    "    svm_model = pickle.load(handle)\n",
    "\n",
    "test_predictions = svm_model.predict(normalized_test)\n",
    "indexes = np.arange(len(test_predictions))"
   ]
  },
  {
   "cell_type": "code",
   "execution_count": null,
   "metadata": {},
   "outputs": [],
   "source": [
    "submission = np.column_stack((indexes, test_predictions))\n",
    "np.savetxt(\"./submission.csv\", submission.astype(int), delimiter=\",\", header=\"id,Prediction\", comments='', fmt='%i')"
   ]
  },
  {
   "cell_type": "code",
   "execution_count": null,
   "metadata": {},
   "outputs": [],
   "source": [
    "mean"
   ]
  },
  {
   "cell_type": "code",
   "execution_count": null,
   "metadata": {},
   "outputs": [],
   "source": []
  }
 ],
 "metadata": {
  "kernelspec": {
   "display_name": "Python 3",
   "language": "python",
   "name": "python3"
  },
  "language_info": {
   "codemirror_mode": {
    "name": "ipython",
    "version": 3
   },
   "file_extension": ".py",
   "mimetype": "text/x-python",
   "name": "python",
   "nbconvert_exporter": "python",
   "pygments_lexer": "ipython3",
   "version": "3.7.1"
  }
 },
 "nbformat": 4,
 "nbformat_minor": 2
}
