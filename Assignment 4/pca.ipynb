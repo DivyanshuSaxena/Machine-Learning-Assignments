{
 "cells": [
  {
   "cell_type": "code",
   "execution_count": null,
   "metadata": {},
   "outputs": [],
   "source": [
    "import random\n",
    "import math\n",
    "import os\n",
    "import sys\n",
    "import pickle\n",
    "import numpy as np\n",
    "import matplotlib.pyplot as plt\n",
    "from PIL import Image\n",
    "from sklearn.decomposition import IncrementalPCA"
   ]
  },
  {
   "cell_type": "code",
   "execution_count": null,
   "metadata": {},
   "outputs": [],
   "source": [
    "def load_image(infilename):\n",
    "    img = Image.open(infilename).convert('L')\n",
    "    data = np.array(img)\n",
    "    return data\n",
    "\n",
    "def view_image(oned_arr):\n",
    "    image = np.reshape(oned_arr, (210, 160), order='F')\n",
    "    img = Image.fromarray(image, 'L')\n",
    "    plt.imshow(img)\n",
    "    plt.show()"
   ]
  },
  {
   "cell_type": "code",
   "execution_count": null,
   "metadata": {},
   "outputs": [],
   "source": [
    "total_episodes = 0\n",
    "total_frames = 0\n",
    "num_frames50 = 0\n",
    "make_pickle = 0"
   ]
  },
  {
   "cell_type": "code",
   "execution_count": null,
   "metadata": {},
   "outputs": [],
   "source": [
    "rootdir = \"./train_dataset/\"\n",
    "tree = sorted(list(os.walk(rootdir)))\n",
    "\n",
    "if make_pickle == 1:\n",
    "    pca_images = []\n",
    "    for root, sub_folders, files in tree[0:51]:\n",
    "        print (root)\n",
    "        if len(files) != 0:\n",
    "            for file in sorted(files)[0:-1]:\n",
    "                num_frames50 += 1\n",
    "                image_file = os.path.join(root, file)\n",
    "                image_arr = load_image(image_file)\n",
    "                # img = Image.fromarray(image_arr, 'L')\n",
    "                # plt.imshow(img)\n",
    "                # plt.show()\n",
    "                flattened_image = image_arr.flatten(order='F')\n",
    "                pca_images.append(flattened_image)\n",
    "    # all_images = np.array(all_images)\n",
    "    # print (all_images.shape)\n",
    "    # pickle_file = './grayscale_pickle'\n",
    "    # np.save(pickle_file, all_images)\n",
    "    \n",
    "    pca_images = np.array(pca_images)\n",
    "    print (\"PCA images done: {0}\".format(pca_images.shape))\n",
    "    ipca = IncrementalPCA(n_components=50, batch_size=200)\n",
    "    ipca.fit(pca_images)\n",
    "    with open('pca_model.pickle', 'wb') as handle:\n",
    "        pickle.dump(ipca, handle, protocol=pickle.HIGHEST_PROTOCOL)"
   ]
  },
  {
   "cell_type": "code",
   "execution_count": null,
   "metadata": {},
   "outputs": [],
   "source": [
    "if not make_pickle == 1:\n",
    "    with open('./pca_model.pickle', 'rb') as handle:\n",
    "        model = pickle.load(handle)\n",
    "\n",
    "    transformed_images = []\n",
    "    for root, sub_folders, files in tree[0:2]:\n",
    "        print (root)\n",
    "        episode_images = []\n",
    "        if len(files) != 0:\n",
    "            for file in sorted(files)[0:-1]:\n",
    "                total_frames += 1\n",
    "                image_file = os.path.join(root, file)\n",
    "                image_arr = load_image(image_file)\n",
    "                flattened_image = image_arr.flatten(order='F')\n",
    "                episode_images.append(flattened_image)\n",
    "            transformed_episode = model.transform(episode_images)\n",
    "            transformed_images.append(transformed_episode)\n",
    "            transform_file = './transforms/{0}'.format(root[16:])\n",
    "            np.save(transform_file, transformed_episode)\n",
    "\n",
    "    transformed_images = np.array(transformed_images)\n",
    "    np.save('./transformed', transformed_images)"
   ]
  },
  {
   "cell_type": "code",
   "execution_count": null,
   "metadata": {},
   "outputs": [],
   "source": []
  }
 ],
 "metadata": {
  "kernelspec": {
   "display_name": "Python 3",
   "language": "python",
   "name": "python3"
  },
  "language_info": {
   "codemirror_mode": {
    "name": "ipython",
    "version": 3
   },
   "file_extension": ".py",
   "mimetype": "text/x-python",
   "name": "python",
   "nbconvert_exporter": "python",
   "pygments_lexer": "ipython3",
   "version": "3.7.1"
  }
 },
 "nbformat": 4,
 "nbformat_minor": 2
}
