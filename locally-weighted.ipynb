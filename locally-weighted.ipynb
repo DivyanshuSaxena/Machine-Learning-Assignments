{
 "cells": [
  {
   "cell_type": "code",
   "execution_count": null,
   "metadata": {},
   "outputs": [],
   "source": [
    "import numpy as np\n",
    "import matplotlib.pyplot as plt\n",
    "import math"
   ]
  },
  {
   "cell_type": "code",
   "execution_count": null,
   "metadata": {},
   "outputs": [],
   "source": [
    "# Read data from files\n",
    "x_i_raw = np.genfromtxt('./ass1_data/weightedX.csv', delimiter=',')\n",
    "y_i = np.genfromtxt('./ass1_data/weightedY.csv', delimiter=',')\n",
    "theta = np.array([0.00, 0.00])\n",
    "m = x_i_raw.size\n",
    "n = 1.5\n",
    "\n",
    "# Normalize data\n",
    "mean = 0\n",
    "squared_sum = 0\n",
    "for xi in x_i_raw:\n",
    "    mean += xi\n",
    "    squared_sum += xi*xi\n",
    "mean = mean/m\n",
    "e_x_squared = squared_sum/m\n",
    "variance = e_x_squared - mean*mean\n",
    "\n",
    "x_i_unnorm = np.array([[1, xi] for xi in x_i_raw])\n",
    "x_i_norm = np.array([(xi-mean)/variance for xi in x_i_raw])\n",
    "x_i = np.array([[1, xi] for xi in x_i_norm])"
   ]
  },
  {
   "cell_type": "code",
   "execution_count": null,
   "metadata": {},
   "outputs": [],
   "source": [
    "# Detect Convergence\n",
    "epsilon = 0.00000001\n",
    "def converged(theta_next, theta):\n",
    "    converged = True\n",
    "    for d in range(theta.size):\n",
    "        converged = converged and abs(theta_next[d] - theta[d]) < epsilon\n",
    "    return converged"
   ]
  },
  {
   "cell_type": "code",
   "execution_count": null,
   "metadata": {},
   "outputs": [],
   "source": [
    "# Gradient Descent\n",
    "num_iterations = 0\n",
    "total_iterations = 10\n",
    "\n",
    "# Arrays ti hold parameter values for all iterations\n",
    "theta_0, theta_1, error_func = [], [], []\n",
    "curve = []\n",
    "\n",
    "while(True):\n",
    "    theta_next = np.array([0.00, 0.00])\n",
    "    j_theta = 0\n",
    "    for j in range(theta.size):\n",
    "        sum = 0\n",
    "        for i in range(m):\n",
    "            hyp = np.dot(theta, x_i[i])\n",
    "            sum = sum + x_i[i][j]*(y_i[i] - hyp)\n",
    "            j_theta = j_theta + (y_i[i] - hyp)*(y_i[i] - hyp)\n",
    "        theta_next[j] = theta[j] + n*sum/m\n",
    "        \n",
    "    if (converged(theta_next, theta)):\n",
    "        break\n",
    "        \n",
    "    j_theta = j_theta/(4*m)\n",
    "    theta_0.append(theta[0])\n",
    "    theta_1.append(theta[1])\n",
    "    error_func.append(j_theta)\n",
    "    \n",
    "    theta = theta_next\n",
    "    num_iterations += 1\n",
    "    \n",
    "print (theta)\n",
    "print (num_iterations)"
   ]
  },
  {
   "cell_type": "code",
   "execution_count": null,
   "metadata": {},
   "outputs": [],
   "source": [
    "# Plot Graphs for PART A - Unweighted Linear Regression\n",
    "h_theta = np.array([np.dot(theta, xi) for xi in x_i])\n",
    "plt.plot(x_i_raw, y_i, 'ro')\n",
    "plt.plot(x_i_raw, h_theta, 'b-')"
   ]
  },
  {
   "cell_type": "code",
   "execution_count": null,
   "metadata": {},
   "outputs": [],
   "source": [
    "# Function to give the predictions for the entire data set using locally weighted regression\n",
    "def locally_weighted_plot(tau):\n",
    "    prediction = []\n",
    "    for x in x_i_unnorm:\n",
    "        # Construct the weights matrix\n",
    "        w_i = []\n",
    "        for xi in x_i_unnorm:\n",
    "            weight = math.exp(-np.dot(x-xi, x-xi)/(2*tau*tau))\n",
    "            w_i.append(weight)\n",
    "        w = np.diag(w_i)\n",
    "        \n",
    "        # Calculate theta for the given x\n",
    "        x_transpose_w = np.dot(np.transpose(x_i_unnorm),w)\n",
    "        theta_left = np.linalg.inv(np.dot(x_transpose_w, x_i_unnorm))\n",
    "        theta_right = np.dot(x_transpose_w, y_i)\n",
    "        theta = np.dot(theta_left, theta_right)\n",
    "        \n",
    "        # Add to the prediction array\n",
    "        prediction.append(np.dot(theta, x))\n",
    "        \n",
    "    return (x_i_unnorm[:, [1]], prediction)"
   ]
  },
  {
   "cell_type": "code",
   "execution_count": null,
   "metadata": {},
   "outputs": [],
   "source": [
    "# Plot for PART B\n",
    "tuple_1 = locally_weighted_plot(0.8)\n",
    "plt.plot(tuple_1[0], tuple_1[1], 'bo')"
   ]
  },
  {
   "cell_type": "code",
   "execution_count": null,
   "metadata": {},
   "outputs": [],
   "source": [
    "# Plot graphs for PART C\n",
    "tuple_1 = locally_weighted_plot(0.1)\n",
    "tuple_2 = locally_weighted_plot(0.3)\n",
    "tuple_3 = locally_weighted_plot(2)\n",
    "tuple_4 = locally_weighted_plot(10)\n",
    "\n",
    "fig, axs = plt.subplots(2, 2, sharex=True, sharey=True)\n",
    "axs[0, 0].plot(tuple_1[0], tuple_1[1], 'b.')\n",
    "axs[0, 0].set_title('tau = 0.1')\n",
    "axs[0, 1].plot(tuple_2[0], tuple_2[1], 'r.')\n",
    "axs[0, 1].set_title('tau = 0.3')\n",
    "axs[1, 0].plot(tuple_3[0], tuple_3[1], 'g.')\n",
    "axs[1, 0].set_title('tau = 2')\n",
    "axs[1, 1].plot(tuple_4[0], tuple_4[1], 'y.')\n",
    "axs[1, 1].set_title('tau = 10')\n",
    "\n",
    "plt.show()"
   ]
  },
  {
   "cell_type": "code",
   "execution_count": null,
   "metadata": {},
   "outputs": [],
   "source": []
  }
 ],
 "metadata": {
  "kernelspec": {
   "display_name": "Python 3",
   "language": "python",
   "name": "python3"
  },
  "language_info": {
   "codemirror_mode": {
    "name": "ipython",
    "version": 3
   },
   "file_extension": ".py",
   "mimetype": "text/x-python",
   "name": "python",
   "nbconvert_exporter": "python",
   "pygments_lexer": "ipython3",
   "version": "3.7.1"
  }
 },
 "nbformat": 4,
 "nbformat_minor": 2
}
