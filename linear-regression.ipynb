{
 "cells": [
  {
   "cell_type": "code",
   "execution_count": 101,
   "metadata": {},
   "outputs": [],
   "source": [
    "import numpy as np\n",
    "import matplotlib.pyplot as plt"
   ]
  },
  {
   "cell_type": "code",
   "execution_count": 219,
   "metadata": {},
   "outputs": [],
   "source": [
    "# PART A\n",
    "x_i_raw = np.genfromtxt('./ass1_data/linearX.csv', delimiter=',')\n",
    "y_i = np.genfromtxt('./ass1_data/linearY.csv', delimiter=',')\n",
    "theta = np.array([0.00, 0.00])\n",
    "m = x_i_raw.size\n",
    "n = 0.0195\n",
    "\n",
    "# Normalize data\n",
    "mean = 0\n",
    "squared_sum = 0\n",
    "for xi in x_i_raw:\n",
    "    mean += xi\n",
    "    squared_sum += xi*xi\n",
    "mean = mean/m\n",
    "e_x_squared = squared_sum/m\n",
    "variance = e_x_squared - mean*mean\n",
    "\n",
    "x_i_norm = np.array([(xi-mean)/variance for xi in x_i_raw])\n",
    "x_i = np.array([[xi, 1] for xi in x_i_norm])\n",
    "# print (x_i_norm)"
   ]
  },
  {
   "cell_type": "code",
   "execution_count": 220,
   "metadata": {},
   "outputs": [],
   "source": [
    "# Detect Convergence\n",
    "epsilon = 0.001\n",
    "def converged(theta_next, theta):\n",
    "    converged = True\n",
    "    for d in range(theta.size):\n",
    "        converged = converged and abs(theta_next[d] - theta[d]) < epsilon\n",
    "    return converged"
   ]
  },
  {
   "cell_type": "code",
   "execution_count": 221,
   "metadata": {},
   "outputs": [
    {
     "name": "stdout",
     "output_type": "stream",
     "text": [
      "[0.00230932 0.99611704]\n",
      "148\n"
     ]
    }
   ],
   "source": [
    "# Gradient Descent\n",
    "num_iterations = 0\n",
    "total_iterations = 10000\n",
    "while(True):\n",
    "    theta_next = np.array([0.00, 0.00])\n",
    "    for j in range(theta.size):\n",
    "        sum = 0\n",
    "        for i in range(m):\n",
    "            hyp = np.dot(theta, x_i[i])\n",
    "            sum = sum + x_i[i][j]*(y_i[i] - hyp)\n",
    "        theta_next[j] = theta[j] + n*sum\n",
    "        \n",
    "    if (converged(theta_next, theta)):\n",
    "        break\n",
    "        \n",
    "    theta = theta_next\n",
    "    num_iterations += 1\n",
    "    \n",
    "print (theta)\n",
    "print (num_iterations)"
   ]
  },
  {
   "cell_type": "code",
   "execution_count": 223,
   "metadata": {},
   "outputs": [
    {
     "data": {
      "text/plain": [
       "[<matplotlib.lines.Line2D at 0x7efc23b6b3c8>]"
      ]
     },
     "execution_count": 223,
     "metadata": {},
     "output_type": "execute_result"
    },
    {
     "data": {
      "image/png": "[encoded data removed]",
      "text/plain": [
       "<Figure size 432x288 with 1 Axes>"
      ]
     },
     "metadata": {
      "needs_background": "light"
     },
     "output_type": "display_data"
    }
   ],
   "source": [
    "# Plot Graphs\n",
    "h_theta = np.array([np.dot(theta, xi) for xi in x_i])\n",
    "plt.plot(x_i_raw, y_i, 'ro')\n",
    "plt.plot(x_i_raw, h_theta, 'b-')"
   ]
  },
  {
   "cell_type": "code",
   "execution_count": null,
   "metadata": {},
   "outputs": [],
   "source": []
  }
 ],
 "metadata": {
  "kernelspec": {
   "display_name": "Python 3",
   "language": "python",
   "name": "python3"
  },
  "language_info": {
   "codemirror_mode": {
    "name": "ipython",
    "version": 3
   },
   "file_extension": ".py",
   "mimetype": "text/x-python",
   "name": "python",
   "nbconvert_exporter": "python",
   "pygments_lexer": "ipython3",
   "version": "3.7.1"
  }
 },
 "nbformat": 4,
 "nbformat_minor": 2
}
