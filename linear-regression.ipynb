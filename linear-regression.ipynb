{
 "cells": [
  {
   "cell_type": "code",
   "execution_count": null,
   "metadata": {},
   "outputs": [],
   "source": [
    "import numpy as np\n",
    "import matplotlib.pyplot as plt\n",
    "import mpl_toolkits.mplot3d.axes3d as p3\n",
    "import matplotlib.animation as animation\n",
    "from matplotlib import cm\n",
    "import math"
   ]
  },
  {
   "cell_type": "code",
   "execution_count": null,
   "metadata": {},
   "outputs": [],
   "source": [
    "# PART A\n",
    "x_i_raw = np.genfromtxt('./ass1_data/linearX.csv', delimiter=',')\n",
    "y_i = np.genfromtxt('./ass1_data/linearY.csv', delimiter=',')\n",
    "theta = np.array([0.00, 0.00])\n",
    "m = x_i_raw.size\n",
    "n = 1.5\n",
    "\n",
    "# Normalize data\n",
    "mean = 0\n",
    "squared_sum = 0\n",
    "for xi in x_i_raw:\n",
    "    mean += xi\n",
    "    squared_sum += xi*xi\n",
    "mean = mean/m\n",
    "e_x_squared = squared_sum/m\n",
    "variance = e_x_squared - mean*mean\n",
    "\n",
    "x_i_norm = np.array([(xi-mean)/math.sqrt(variance) for xi in x_i_raw])\n",
    "x_i = np.array([[1, xi] for xi in x_i_norm])"
   ]
  },
  {
   "cell_type": "code",
   "execution_count": null,
   "metadata": {},
   "outputs": [],
   "source": [
    "# Detect Convergence\n",
    "epsilon = 0.00000001\n",
    "def converged(theta_next, theta):\n",
    "    converged = True\n",
    "    for d in range(theta.size):\n",
    "        converged = converged and abs(theta_next[d] - theta[d]) < epsilon\n",
    "    return converged\n",
    "\n",
    "# Update Graph for PART C\n",
    "def update_lines(num, dataLines, lines):\n",
    "    for line, data in zip(lines, dataLines):\n",
    "        line.set_data(data[0:2, :num])\n",
    "        line.set_3d_properties(data[2, :num])\n",
    "    return lines\n",
    "\n",
    "def compute_error(theta_0, theta_1):\n",
    "    error = 0\n",
    "    for i in range(m):\n",
    "        hyp = theta_1*x_i[i][1] + theta_0\n",
    "        error += (y_i[i]-hyp)*(y_i[i]-hyp)\n",
    "    error = error/(2*m)\n",
    "    return error"
   ]
  },
  {
   "cell_type": "code",
   "execution_count": null,
   "metadata": {},
   "outputs": [],
   "source": [
    "# Gradient Descent\n",
    "num_iterations = 0\n",
    "total_iterations = 10\n",
    "\n",
    "# Arrays ti hold parameter values for all iterations\n",
    "theta_0, theta_1, error_func = [], [], []\n",
    "curve = []\n",
    "\n",
    "while(True):\n",
    "    theta_next = np.array([0.00, 0.00])\n",
    "    j_theta = 0\n",
    "    for j in range(theta.size):\n",
    "        sum = 0\n",
    "        for i in range(m):\n",
    "            hyp = np.dot(theta, x_i[i])\n",
    "            sum = sum + x_i[i][j]*(y_i[i] - hyp)\n",
    "            j_theta = j_theta + (y_i[i] - hyp)*(y_i[i] - hyp)\n",
    "        theta_next[j] = theta[j] + n*sum/m\n",
    "        \n",
    "    if (converged(theta_next, theta)):\n",
    "        break\n",
    "        \n",
    "    j_theta = j_theta/(4*m)\n",
    "    theta_0.append(theta[0])\n",
    "    theta_1.append(theta[1])\n",
    "    error_func.append(j_theta)\n",
    "    \n",
    "    theta = theta_next\n",
    "    num_iterations += 1\n",
    "    \n",
    "print (theta)\n",
    "print (num_iterations)"
   ]
  },
  {
   "cell_type": "code",
   "execution_count": null,
   "metadata": {},
   "outputs": [],
   "source": [
    "# Plot Graphs for PART B\n",
    "h_theta = np.array([np.dot(theta, xi) for xi in x_i])\n",
    "plt.plot(x_i_raw, y_i, 'ro')\n",
    "plt.plot(x_i_raw, h_theta, 'b-')"
   ]
  },
  {
   "cell_type": "code",
   "execution_count": null,
   "metadata": {},
   "outputs": [],
   "source": [
    "fig = plt.figure()\n",
    "ax = p3.Axes3D(fig)\n",
    "\n",
    "# Plot for PART C\n",
    "# Set Axes Properties\n",
    "theta_0_min, theta_0_max = -1, 3\n",
    "theta_1_min, theta_1_max = -2, 2\n",
    "error_func_min, error_func_max = 0, 4\n",
    "ax.set_xlim3d([theta_0_min, theta_0_max])\n",
    "ax.set_ylim3d([theta_1_min, theta_1_max])\n",
    "ax.set_zlim3d([error_func_min, error_func_max])\n",
    "\n",
    "# Make surface plot\n",
    "theta_0_surface = np.linspace(theta_0_min, theta_0_max, 300)\n",
    "theta_1_surface = np.linspace(theta_1_min, theta_1_max, 300)\n",
    "theta_0_surface, theta_1_surface = np.meshgrid(theta_0_surface, theta_1_surface)    \n",
    "error_func_surface = compute_error(theta_0_surface, theta_1_surface)\n",
    "\n",
    "# Plot the error function surface\n",
    "ax.plot_surface(theta_0_surface, theta_1_surface, error_func_surface, cmap = cm.coolwarm, \n",
    "                linewidth=0, antialiased=False)\n",
    "\n",
    "# Plot error curve versus parameters\n",
    "curve = [np.array([theta_0, theta_1, error_func])]\n",
    "lines = [ax.plot(dat[0, 0:1], dat[1, 0:1], dat[2, 0:1], 'r.')[0] for dat in curve]\n",
    "ani = animation.FuncAnimation(fig, update_lines, num_iterations-1, fargs=(curve, lines), \n",
    "                              interval=200, blit=True)\n",
    "plt.show()"
   ]
  },
  {
   "cell_type": "code",
   "execution_count": null,
   "metadata": {},
   "outputs": [],
   "source": [
    "# Plot contour for PART D\n",
    "plt.ion()\n",
    "contour_plot = plt.plot([], [], 'r.')[0]\n",
    "plt.contour(theta_0_surface, theta_1_surface, error_func_surface)\n",
    "\n",
    "for i in range(num_iterations-1):\n",
    "    contour_plot.set_xdata(theta_0[:i])\n",
    "    contour_plot.set_ydata(theta_1[:i])\n",
    "    plt.pause(0.2)\n",
    "    \n",
    "plt.show()"
   ]
  },
  {
   "cell_type": "code",
   "execution_count": null,
   "metadata": {},
   "outputs": [],
   "source": []
  }
 ],
 "metadata": {
  "kernelspec": {
   "display_name": "Python 3",
   "language": "python",
   "name": "python3"
  },
  "language_info": {
   "codemirror_mode": {
    "name": "ipython",
    "version": 3
   },
   "file_extension": ".py",
   "mimetype": "text/x-python",
   "name": "python",
   "nbconvert_exporter": "python",
   "pygments_lexer": "ipython3",
   "version": "3.7.1"
  }
 },
 "nbformat": 4,
 "nbformat_minor": 2
}
